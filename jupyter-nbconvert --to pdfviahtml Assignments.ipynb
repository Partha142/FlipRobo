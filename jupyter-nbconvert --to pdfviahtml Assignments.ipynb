{
 "cells": [
  {
   "cell_type": "code",
   "execution_count": 1,
   "id": "d64e43d7",
   "metadata": {},
   "outputs": [],
   "source": [
    "Questions 1"
   ]
  },
  {
   "cell_type": "code",
   "execution_count": 2,
   "id": "d4f3f2a1",
   "metadata": {},
   "outputs": [
    {
     "name": "stdout",
     "output_type": "stream",
     "text": [
      "Python:Exercises::PHP:exercises:\n"
     ]
    }
   ],
   "source": [
    "import re\n",
    "text = 'Python Exercises, PHP exercises.'\n",
    "print(re.sub(\"[ ,.]\", \":\", text))"
   ]
  },
  {
   "cell_type": "code",
   "execution_count": null,
   "id": "01aa0e73",
   "metadata": {},
   "outputs": [],
   "source": [
    "Questions 2"
   ]
  },
  {
   "cell_type": "code",
   "execution_count": 19,
   "id": "f31542cb",
   "metadata": {},
   "outputs": [
    {
     "name": "stdout",
     "output_type": "stream",
     "text": [
      "         SUMMARY\n",
      "0    hello world\n",
      "1           test\n",
      "2  four five six\n"
     ]
    }
   ],
   "source": [
    "import pandas as pd\n",
    "data = {'SUMMARY': ['hello world', 'test', 'four five six']}\n",
    "df = pd.DataFrame(data)\n",
    "print(df)"
   ]
  },
  {
   "cell_type": "code",
   "execution_count": null,
   "id": "15a59abb",
   "metadata": {},
   "outputs": [],
   "source": [
    "Questions 3"
   ]
  },
  {
   "cell_type": "code",
   "execution_count": 123,
   "id": "fae78048",
   "metadata": {},
   "outputs": [
    {
     "name": "stdout",
     "output_type": "stream",
     "text": [
      "Words at least 4 characters long:\n",
      "['This', 'sample', 'sentence', 'with', 'words', 'various', 'lengths']\n"
     ]
    }
   ],
   "source": [
    "import re\n",
    "\n",
    "def find_words_at_least_4_characters(input_string):\n",
    "    pattern = re.compile(r'\\b\\w{4,}\\b')\n",
    "    matches = pattern.findall(input_string)\n",
    "    return matches\n",
    "\n",
    "def main():\n",
    "    sample_text = \"This is a sample sentence with words of various lengths.\"\n",
    "    result = find_words_at_least_4_characters(sample_text)\n",
    "    print(\"Words at least 4 characters long:\")\n",
    "    print(result)\n",
    "\n",
    "if __name__ == \"__main__\":\n",
    "    main()"
   ]
  },
  {
   "cell_type": "code",
   "execution_count": null,
   "id": "82bc429a",
   "metadata": {},
   "outputs": [],
   "source": [
    "Questions 4"
   ]
  },
  {
   "cell_type": "code",
   "execution_count": 124,
   "id": "89d32df8",
   "metadata": {},
   "outputs": [
    {
     "name": "stdout",
     "output_type": "stream",
     "text": [
      "Three, four, and five character words:\n",
      "['This', 'with', 'words']\n"
     ]
    }
   ],
   "source": [
    "import re\n",
    "\n",
    "def find_words_of_length_3_to_5(input_string):\n",
    "    pattern = re.compile(r'\\b\\w{3,5}\\b')\n",
    "    matches = pattern.findall(input_string)\n",
    "    return matches\n",
    "\n",
    "def main():\n",
    "    sample_text = \"This is a sample sentence with words of various lengths.\"\n",
    "    result = find_words_of_length_3_to_5(sample_text)\n",
    "    print(\"Three, four, and five character words:\")\n",
    "    print(result)\n",
    "\n",
    "if __name__ == \"__main__\":\n",
    "    main()"
   ]
  },
  {
   "cell_type": "code",
   "execution_count": null,
   "id": "88230bc6",
   "metadata": {},
   "outputs": [],
   "source": [
    "Questions 5"
   ]
  },
  {
   "cell_type": "code",
   "execution_count": 125,
   "id": "d7fac235",
   "metadata": {},
   "outputs": [
    {
     "name": "stdout",
     "output_type": "stream",
     "text": [
      "Expected Output:\n",
      "example \n",
      "hr@fliprobo \n",
      "github \n",
      "Hello \n",
      "Data \n"
     ]
    }
   ],
   "source": [
    "import re\n",
    "\n",
    "def remove_parentheses(strings_list):\n",
    "    pattern = re.compile(r'\\([^)]*\\)')\n",
    "    cleaned_strings = [pattern.sub('', s) for s in strings_list]\n",
    "    return cleaned_strings\n",
    "\n",
    "def main():\n",
    "    sample_strings = [\"example (.com)\", \"hr@fliprobo (.com)\", \"github (.com)\", \"Hello (Data Science World)\", \"Data (Scientist)\"]\n",
    "    cleaned_strings = remove_parentheses(sample_strings)\n",
    "\n",
    "    print(\"Expected Output:\")\n",
    "    for cleaned_string in cleaned_strings:\n",
    "        print(cleaned_string)\n",
    "\n",
    "if __name__ == \"__main__\":\n",
    "    main()"
   ]
  },
  {
   "cell_type": "code",
   "execution_count": 127,
   "id": "302d834b",
   "metadata": {},
   "outputs": [
    {
     "ename": "FileNotFoundError",
     "evalue": "[Errno 2] No such file or directory: 'sample_text.txt'",
     "output_type": "error",
     "traceback": [
      "\u001b[1;31m---------------------------------------------------------------------------\u001b[0m",
      "\u001b[1;31mFileNotFoundError\u001b[0m                         Traceback (most recent call last)",
      "Cell \u001b[1;32mIn[127], line 20\u001b[0m\n\u001b[0;32m     17\u001b[0m     \u001b[38;5;28mprint\u001b[39m(cleaned_lines)\n\u001b[0;32m     19\u001b[0m \u001b[38;5;28;01mif\u001b[39;00m \u001b[38;5;18m__name__\u001b[39m \u001b[38;5;241m==\u001b[39m \u001b[38;5;124m\"\u001b[39m\u001b[38;5;124m__main__\u001b[39m\u001b[38;5;124m\"\u001b[39m:\n\u001b[1;32m---> 20\u001b[0m     \u001b[43mmain\u001b[49m\u001b[43m(\u001b[49m\u001b[43m)\u001b[49m\n",
      "Cell \u001b[1;32mIn[127], line 10\u001b[0m, in \u001b[0;36mmain\u001b[1;34m()\u001b[0m\n\u001b[0;32m      8\u001b[0m \u001b[38;5;28;01mdef\u001b[39;00m \u001b[38;5;21mmain\u001b[39m():\n\u001b[1;32m---> 10\u001b[0m     \u001b[38;5;28;01mwith\u001b[39;00m \u001b[38;5;28;43mopen\u001b[39;49m\u001b[43m(\u001b[49m\u001b[38;5;124;43m'\u001b[39;49m\u001b[38;5;124;43msample_text.txt\u001b[39;49m\u001b[38;5;124;43m'\u001b[39;49m\u001b[43m,\u001b[49m\u001b[43m \u001b[49m\u001b[38;5;124;43m'\u001b[39;49m\u001b[38;5;124;43mr\u001b[39;49m\u001b[38;5;124;43m'\u001b[39;49m\u001b[43m)\u001b[49m \u001b[38;5;28;01mas\u001b[39;00m file:\n\u001b[0;32m     11\u001b[0m         lines \u001b[38;5;241m=\u001b[39m file\u001b[38;5;241m.\u001b[39mreadlines()\n\u001b[0;32m     14\u001b[0m     cleaned_text \u001b[38;5;241m=\u001b[39m [remove_parenthesis(line) \u001b[38;5;28;01mfor\u001b[39;00m line \u001b[38;5;129;01min\u001b[39;00m lines]\n",
      "File \u001b[1;32m~\\anaconda3\\lib\\site-packages\\IPython\\core\\interactiveshell.py:282\u001b[0m, in \u001b[0;36m_modified_open\u001b[1;34m(file, *args, **kwargs)\u001b[0m\n\u001b[0;32m    275\u001b[0m \u001b[38;5;28;01mif\u001b[39;00m file \u001b[38;5;129;01min\u001b[39;00m {\u001b[38;5;241m0\u001b[39m, \u001b[38;5;241m1\u001b[39m, \u001b[38;5;241m2\u001b[39m}:\n\u001b[0;32m    276\u001b[0m     \u001b[38;5;28;01mraise\u001b[39;00m \u001b[38;5;167;01mValueError\u001b[39;00m(\n\u001b[0;32m    277\u001b[0m         \u001b[38;5;124mf\u001b[39m\u001b[38;5;124m\"\u001b[39m\u001b[38;5;124mIPython won\u001b[39m\u001b[38;5;124m'\u001b[39m\u001b[38;5;124mt let you open fd=\u001b[39m\u001b[38;5;132;01m{\u001b[39;00mfile\u001b[38;5;132;01m}\u001b[39;00m\u001b[38;5;124m by default \u001b[39m\u001b[38;5;124m\"\u001b[39m\n\u001b[0;32m    278\u001b[0m         \u001b[38;5;124m\"\u001b[39m\u001b[38;5;124mas it is likely to crash IPython. If you know what you are doing, \u001b[39m\u001b[38;5;124m\"\u001b[39m\n\u001b[0;32m    279\u001b[0m         \u001b[38;5;124m\"\u001b[39m\u001b[38;5;124myou can use builtins\u001b[39m\u001b[38;5;124m'\u001b[39m\u001b[38;5;124m open.\u001b[39m\u001b[38;5;124m\"\u001b[39m\n\u001b[0;32m    280\u001b[0m     )\n\u001b[1;32m--> 282\u001b[0m \u001b[38;5;28;01mreturn\u001b[39;00m io_open(file, \u001b[38;5;241m*\u001b[39margs, \u001b[38;5;241m*\u001b[39m\u001b[38;5;241m*\u001b[39mkwargs)\n",
      "\u001b[1;31mFileNotFoundError\u001b[0m: [Errno 2] No such file or directory: 'sample_text.txt'"
     ]
    }
   ],
   "source": [
    "import re\n",
    "\n",
    "def remove_parenthesis(text):\n",
    "    \n",
    "    cleaned_text = re.sub(r'\\([^)]*\\)', '', text)\n",
    "    return cleaned_text.strip()\n",
    "\n",
    "def main():\n",
    "    \n",
    "    with open('sample_text.txt', 'r') as file:\n",
    "        lines = file.readlines()\n",
    "\n",
    "    \n",
    "    cleaned_text = [remove_parenthesis(line) for line in lines]\n",
    "\n",
    "    \n",
    "    print(cleaned_lines)\n",
    "\n",
    "if __name__ == \"__main__\":\n",
    "    main()"
   ]
  },
  {
   "cell_type": "code",
   "execution_count": 73,
   "id": "0ba397b1",
   "metadata": {},
   "outputs": [
    {
     "name": "stdout",
     "output_type": "stream",
     "text": [
      "['Importance', 'Of', 'Regular', 'Expressions', 'In', 'Python']\n"
     ]
    }
   ],
   "source": [
    "import re\n",
    "\n",
    "def split_into_uppercase(text):\n",
    "    result = re.findall(r'[A-Z][a-z]*', text)\n",
    "    return result\n",
    "def main():\n",
    "    sample_text = \"ImportanceOfRegularExpressionsInPython\"   \n",
    "    output = split_into_uppercase(sample_text)\n",
    "    print(output)\n",
    "\n",
    "if __name__ == \"__main__\":\n",
    "    main()"
   ]
  },
  {
   "cell_type": "code",
   "execution_count": null,
   "id": "5af71949",
   "metadata": {},
   "outputs": [],
   "source": [
    "Questions 8"
   ]
  },
  {
   "cell_type": "code",
   "execution_count": 121,
   "id": "9a09c47d",
   "metadata": {},
   "outputs": [
    {
     "name": "stdout",
     "output_type": "stream",
     "text": [
      "RegularExpression 1 IsAn 2 ImportantTopic 3 InPython\n"
     ]
    }
   ],
   "source": [
    "import re\n",
    "\n",
    "def insert_spaces(text):\n",
    "    \n",
    "    result = re.sub(r'(\\d)([A-Za-z])', r'\\1 \\2', text)\n",
    "    result = re.sub(r'([A-Za-z])(\\d)', r'\\1 \\2', result)\n",
    "    return result\n",
    "\n",
    "def main():\n",
    "    \n",
    "    sample_text = \"RegularExpression1IsAn2ImportantTopic3InPython\"\n",
    "\n",
    "    \n",
    "    output = insert_spaces(sample_text)\n",
    "\n",
    "    \n",
    "    print(output)\n",
    "\n",
    "if __name__ == \"__main__\":\n",
    "    main()"
   ]
  },
  {
   "cell_type": "code",
   "execution_count": null,
   "id": "0b2548ce",
   "metadata": {},
   "outputs": [],
   "source": [
    "Questions 9"
   ]
  },
  {
   "cell_type": "code",
   "execution_count": 120,
   "id": "921e88a1",
   "metadata": {},
   "outputs": [
    {
     "name": "stdout",
     "output_type": "stream",
     "text": [
      "RegularExpression 1 IsAn 2 ImportantTopic 3 InPython\n"
     ]
    }
   ],
   "source": [
    "import re\n",
    "\n",
    "def insert_spaces(text):\n",
    "   \n",
    "    result = re.sub(r'([A-Z\\d])([A-Z])', r'\\1 \\2', text)\n",
    "    result = re.sub(r'(\\d)([A-Za-z])', r'\\1 \\2', result)\n",
    "    result = re.sub(r'([A-Za-z])(\\d)', r'\\1 \\2', result)\n",
    "    return result\n",
    "\n",
    "def main():\n",
    "    \n",
    "    sample_text = \"RegularExpression1IsAn2ImportantTopic3InPython\"\n",
    "\n",
    "    \n",
    "    output = insert_spaces(sample_text)\n",
    "\n",
    "   \n",
    "    print(output)\n",
    "\n",
    "if __name__ == \"__main__\":\n",
    "    main()"
   ]
  },
  {
   "cell_type": "code",
   "execution_count": null,
   "id": "73c3e2e8",
   "metadata": {},
   "outputs": [],
   "source": [
    "Questions 10"
   ]
  },
  {
   "cell_type": "code",
   "execution_count": 119,
   "id": "80e553a7",
   "metadata": {},
   "outputs": [
    {
     "name": "stdout",
     "output_type": "stream",
     "text": [
      "       Country          Region  Happiness Rank  Happiness Score  \\\n",
      "0  Switzerland  Western Europe               1            7.587   \n",
      "1      Iceland  Western Europe               2            7.561   \n",
      "2      Denmark  Western Europe               3            7.527   \n",
      "3       Norway  Western Europe               4            7.522   \n",
      "4       Canada   North America               5            7.427   \n",
      "\n",
      "   Standard Error  Economy (GDP per Capita)   Family  \\\n",
      "0         0.03411                   1.39651  1.34951   \n",
      "1         0.04884                   1.30232  1.40223   \n",
      "2         0.03328                   1.32548  1.36058   \n",
      "3         0.03880                   1.45900  1.33095   \n",
      "4         0.03553                   1.32629  1.32261   \n",
      "\n",
      "   Health (Life Expectancy)  Freedom  Trust (Government Corruption)  \\\n",
      "0                   0.94143  0.66557                        0.41978   \n",
      "1                   0.94784  0.62877                        0.14145   \n",
      "2                   0.87464  0.64938                        0.48357   \n",
      "3                   0.88521  0.66973                        0.36503   \n",
      "4                   0.90563  0.63297                        0.32957   \n",
      "\n",
      "   Generosity  Dystopia Residual first_five_letters  \n",
      "0     0.29678            2.51738             Switze  \n",
      "1     0.43630            2.70201             Icelan  \n",
      "2     0.34139            2.49204             Denmar  \n",
      "3     0.34699            2.46531             Norway  \n",
      "4     0.45811            2.45176             Canada  \n"
     ]
    }
   ],
   "source": [
    "import pandas as pd\n",
    "\n",
    "\n",
    "github_link = \"https://raw.githubusercontent.com/dsrscientist/DSData/master/happiness_score_dataset.csv\"\n",
    "\n",
    "\n",
    "df = pd.read_csv(github_link)\n",
    "\n",
    "\n",
    "df['first_five_letters'] = df['Country'].str[:6]\n",
    "\n",
    "\n",
    "print(df.head())\n"
   ]
  },
  {
   "cell_type": "code",
   "execution_count": null,
   "id": "32217c69",
   "metadata": {},
   "outputs": [],
   "source": [
    "Questions 11"
   ]
  },
  {
   "cell_type": "code",
   "execution_count": 118,
   "id": "ffa5c27a",
   "metadata": {},
   "outputs": [
    {
     "name": "stdout",
     "output_type": "stream",
     "text": [
      "Valid_String_123 is a valid string.\n",
      "Invalid String! is not a valid string.\n",
      "123456 is a valid string.\n",
      "mixed_CASE_123 is a valid string.\n"
     ]
    }
   ],
   "source": [
    "import re\n",
    "\n",
    "def is_valid_string(input_string):\n",
    "    \n",
    "    pattern = r'^[a-zA-Z0-9_]+$'\n",
    "\n",
    "    \n",
    "    match = re.match(pattern, input_string)\n",
    "\n",
    "   \n",
    "    return bool(match)\n",
    "\n",
    "def main():\n",
    "    \n",
    "    test_strings = [\"Valid_String_123\", \"Invalid String!\", \"123456\", \"mixed_CASE_123\"]\n",
    "\n",
    "    for test_string in test_strings:\n",
    "        if is_valid_string(test_string):\n",
    "            print(f'{test_string} is a valid string.')\n",
    "        else:\n",
    "            print(f'{test_string} is not a valid string.')\n",
    "\n",
    "if __name__ == \"__main__\":\n",
    "    main()"
   ]
  },
  {
   "cell_type": "code",
   "execution_count": null,
   "id": "1d01d7dd",
   "metadata": {},
   "outputs": [],
   "source": [
    "Questions 12"
   ]
  },
  {
   "cell_type": "code",
   "execution_count": 117,
   "id": "60c57ed5",
   "metadata": {},
   "outputs": [
    {
     "name": "stdout",
     "output_type": "stream",
     "text": [
      "123abc starts with 123.\n",
      "456def does not start with 123.\n",
      "789xyz does not start with 123.\n"
     ]
    }
   ],
   "source": [
    "def starts_with_number(input_string, target_number):\n",
    "   \n",
    "    return input_string.startswith(str(target_number))\n",
    "\n",
    "def main():\n",
    "    \n",
    "    test_strings = [\"123abc\", \"456def\", \"789xyz\"]\n",
    "    target_number = 123\n",
    "\n",
    "    for test_string in test_strings:\n",
    "        if starts_with_number(test_string, target_number):\n",
    "            print(f'{test_string} starts with {target_number}.')\n",
    "        else:\n",
    "            print(f'{test_string} does not start with {target_number}.')\n",
    "\n",
    "if __name__ == \"__main__\":\n",
    "    main()"
   ]
  },
  {
   "cell_type": "code",
   "execution_count": null,
   "id": "80bb0c3b",
   "metadata": {},
   "outputs": [],
   "source": [
    "Questions 13"
   ]
  },
  {
   "cell_type": "code",
   "execution_count": 116,
   "id": "b8b2dd86",
   "metadata": {},
   "outputs": [
    {
     "name": "stdout",
     "output_type": "stream",
     "text": [
      "Original IP address: 192.168.001.001\n",
      "Cleaned IP address: 192.168.1.1\n"
     ]
    }
   ],
   "source": [
    "def remove_leading_zeros(ip_address):\n",
    "   \n",
    "    octets = ip_address.split('.')\n",
    "\n",
    "\n",
    "    cleaned_octets = [str(int(octet)) for octet in octets]\n",
    "\n",
    "    \n",
    "    cleaned_ip_address = '.'.join(cleaned_octets)\n",
    "\n",
    "    return cleaned_ip_address\n",
    "\n",
    "def main():\n",
    "    \n",
    "    ip_address = \"192.168.001.001\"\n",
    "\n",
    "    cleaned_ip_address = remove_leading_zeros(ip_address)\n",
    "\n",
    "    print(f'Original IP address: {ip_address}')\n",
    "    print(f'Cleaned IP address: {cleaned_ip_address}')\n",
    "\n",
    "if __name__ == \"__main__\":\n",
    "    main()"
   ]
  },
  {
   "cell_type": "code",
   "execution_count": null,
   "id": "38fc624d",
   "metadata": {},
   "outputs": [],
   "source": [
    "Questions 14"
   ]
  },
  {
   "cell_type": "code",
   "execution_count": 115,
   "id": "a61f7a85",
   "metadata": {},
   "outputs": [
    {
     "name": "stdout",
     "output_type": "stream",
     "text": [
      "[('August', '15', '1947')]\n"
     ]
    }
   ],
   "source": [
    "import re\n",
    "\n",
    "def extract_date_from_text(text):\n",
    "    \n",
    "    pattern = r'\\b(January|February|March|April|May|June|July|August|September|October|November|December)\\s+(\\d{1,2})[a-z]{0,2}\\s+(\\d{4})\\b'\n",
    "\n",
    "    \n",
    "    matches = re.findall(pattern, text)\n",
    "\n",
    "    return matches\n",
    "\n",
    "def main():\n",
    "    \n",
    "    sample_text = 'On August 15th 1947 that India was declared independent from British colonialism, and the reins of control were handed over to the leaders of the Country.'\n",
    "\n",
    "    \n",
    "    extracted_dates = extract_date_from_text(sample_text)\n",
    "\n",
    "    \n",
    "    print(extracted_dates)\n",
    "\n",
    "if __name__ == \"__main__\":\n",
    "    main()"
   ]
  },
  {
   "cell_type": "code",
   "execution_count": null,
   "id": "594a6a03",
   "metadata": {},
   "outputs": [],
   "source": [
    "Questions 15"
   ]
  },
  {
   "cell_type": "code",
   "execution_count": 86,
   "id": "a38774e9",
   "metadata": {},
   "outputs": [
    {
     "name": "stdout",
     "output_type": "stream",
     "text": [
      "The word \"fox\" is present in the text.\n",
      "The word \"dog\" is present in the text.\n",
      "The word \"horse\" is not present in the text.\n"
     ]
    }
   ],
   "source": [
    "def search_literals(main_string, searched_words):\n",
    "    results = {}\n",
    "\n",
    "    for word in searched_words:\n",
    "        if word in main_string:\n",
    "            results[word] = True\n",
    "        else:\n",
    "            results[word] = False\n",
    "\n",
    "    return results\n",
    "\n",
    "def main():\n",
    "    sample_text = 'The quick brown fox jumps over the lazy dog.'\n",
    "    searched_words = ['fox', 'dog', 'horse']\n",
    "\n",
    "    search_results = search_literals(sample_text, searched_words)\n",
    "\n",
    "    for word, found in search_results.items():\n",
    "        if found:\n",
    "            print(f'The word \"{word}\" is present in the text.')\n",
    "        else:\n",
    "            print(f'The word \"{word}\" is not present in the text.')\n",
    "\n",
    "if __name__ == \"__main__\":\n",
    "    main()"
   ]
  },
  {
   "cell_type": "code",
   "execution_count": null,
   "id": "d5021c47",
   "metadata": {},
   "outputs": [],
   "source": [
    "Questions 16"
   ]
  },
  {
   "cell_type": "code",
   "execution_count": 89,
   "id": "a0584c89",
   "metadata": {},
   "outputs": [
    {
     "name": "stdout",
     "output_type": "stream",
     "text": [
      "The word \"fox\" is present in the text at index 16.\n"
     ]
    }
   ],
   "source": [
    "import re\n",
    "\n",
    "def search_literal_and_location_regex(main_string, searched_word):\n",
    "    matches = re.finditer(searched_word, main_string)\n",
    "\n",
    "    for match in matches:\n",
    "        print(f'The word \"{searched_word}\" is present in the text at index {match.start()}.')\n",
    "\n",
    "def main():\n",
    "    sample_text = 'The quick brown fox jumps over the lazy dog.'\n",
    "    searched_word = 'fox'\n",
    "\n",
    "    search_literal_and_location_regex(sample_text, searched_word)\n",
    "\n",
    "if __name__ == \"__main__\":\n",
    "    main()"
   ]
  },
  {
   "cell_type": "code",
   "execution_count": null,
   "id": "88d231ff",
   "metadata": {},
   "outputs": [],
   "source": [
    "Questions 17"
   ]
  },
  {
   "cell_type": "code",
   "execution_count": 114,
   "id": "e0f4492b",
   "metadata": {},
   "outputs": [
    {
     "name": "stdout",
     "output_type": "stream",
     "text": [
      "The pattern \"exercises\" is found in the text:\n",
      "exercises\n",
      "exercises\n",
      "exercises\n"
     ]
    }
   ],
   "source": [
    "import re\n",
    "\n",
    "def find_substrings(main_string, pattern):\n",
    "   \n",
    "    matches = re.findall(pattern, main_string)\n",
    "\n",
    "    return matches\n",
    "\n",
    "def main():\n",
    "    sample_text = 'Python exercises, PHP exercises, C# exercises'\n",
    "    search_pattern = 'exercises'\n",
    "\n",
    "   \n",
    "    found_substrings = find_substrings(sample_text, search_pattern)\n",
    "\n",
    "    if found_substrings:\n",
    "        print(f'The pattern \"{search_pattern}\" is found in the text:')\n",
    "        for substring in found_substrings:\n",
    "            print(substring)\n",
    "    else:\n",
    "        print(f'The pattern \"{search_pattern}\" is not found in the text.')\n",
    "\n",
    "if __name__ == \"__main__\":\n",
    "    main()"
   ]
  },
  {
   "cell_type": "code",
   "execution_count": null,
   "id": "03f2b633",
   "metadata": {},
   "outputs": [],
   "source": [
    "Questions 18"
   ]
  },
  {
   "cell_type": "code",
   "execution_count": 90,
   "id": "18dfa4b7",
   "metadata": {},
   "outputs": [
    {
     "name": "stdout",
     "output_type": "stream",
     "text": [
      "The substring \"fox\" occurs in the text at the following positions:\n",
      "Position: 16\n",
      "Position: 49\n"
     ]
    }
   ],
   "source": [
    "def find_occurrences_and_positions(main_string, substring):\n",
    "    occurrences = []\n",
    "    start_position = main_string.find(substring)\n",
    "\n",
    "    while start_position != -1:\n",
    "        occurrences.append(start_position)\n",
    "        start_position = main_string.find(substring, start_position + 1)\n",
    "\n",
    "    return occurrences\n",
    "\n",
    "def main():\n",
    "    sample_text = 'The quick brown fox jumps over the lazy dog. The fox is fast, and the dog is lazy.'\n",
    "    searched_substring = 'fox'\n",
    "\n",
    "    occurrences_and_positions = find_occurrences_and_positions(sample_text, searched_substring)\n",
    "\n",
    "    if occurrences_and_positions:\n",
    "        print(f'The substring \"{searched_substring}\" occurs in the text at the following positions:')\n",
    "        for position in occurrences_and_positions:\n",
    "            print(f'Position: {position}')\n",
    "    else:\n",
    "        print(f'The substring \"{searched_substring}\" is not present in the text.')\n",
    "\n",
    "if __name__ == \"__main__\":\n",
    "    main()"
   ]
  },
  {
   "cell_type": "code",
   "execution_count": null,
   "id": "c41c0c81",
   "metadata": {},
   "outputs": [],
   "source": [
    "Questions 19"
   ]
  },
  {
   "cell_type": "code",
   "execution_count": 113,
   "id": "ffa3afa1",
   "metadata": {},
   "outputs": [
    {
     "name": "stdout",
     "output_type": "stream",
     "text": [
      "Input date: 2023-12-16\n",
      "Converted date: 16-12-2023\n"
     ]
    }
   ],
   "source": [
    "from datetime import datetime\n",
    "\n",
    "def convert_date_format(input_date):\n",
    "    \n",
    "    date_object = datetime.strptime(input_date, '%Y-%m-%d')\n",
    "\n",
    "    \n",
    "    output_date = date_object.strftime('%d-%m-%Y')\n",
    "\n",
    "    return output_date\n",
    "\n",
    "def main():\n",
    "    \n",
    "    input_date = '2023-12-16'\n",
    "\n",
    "   \n",
    "    output_date = convert_date_format(input_date)\n",
    "\n",
    "  \n",
    "    print(f'Input date: {input_date}')\n",
    "    print(f'Converted date: {output_date}')\n",
    "\n",
    "if __name__ == \"__main__\":\n",
    "    main()"
   ]
  },
  {
   "cell_type": "code",
   "execution_count": null,
   "id": "2b1d8e14",
   "metadata": {},
   "outputs": [],
   "source": [
    "Questions 20"
   ]
  },
  {
   "cell_type": "code",
   "execution_count": 92,
   "id": "66319941",
   "metadata": {},
   "outputs": [
    {
     "name": "stdout",
     "output_type": "stream",
     "text": [
      "['01.12', '145.8', '3.01', '27.25', '0.25']\n"
     ]
    }
   ],
   "source": [
    "import re\n",
    "\n",
    "def find_decimal_numbers(input_string):\n",
    "    pattern = re.compile(r'\\b\\d+\\.\\d{1,2}\\b')\n",
    "    matches = pattern.findall(input_string)\n",
    "    return matches\n",
    "\n",
    "def main():\n",
    "    sample_text = \"01.12 0132.123 2.31875 145.8 3.01 27.25 0.25\"\n",
    "    result = find_decimal_numbers(sample_text)\n",
    "    print(result)\n",
    "\n",
    "if __name__ == \"__main__\":\n",
    "    main()"
   ]
  },
  {
   "cell_type": "code",
   "execution_count": null,
   "id": "90bb59a2",
   "metadata": {},
   "outputs": [],
   "source": [
    "Questions 21"
   ]
  },
  {
   "cell_type": "code",
   "execution_count": 93,
   "id": "63c3a9c2",
   "metadata": {},
   "outputs": [
    {
     "name": "stdout",
     "output_type": "stream",
     "text": [
      "Numbers: ['1', '2', '3', '4', '5', '6', '7', '8', '9']\n",
      "Positions: [4, 5, 6, 10, 11, 12, 16, 17, 18]\n"
     ]
    }
   ],
   "source": [
    "def separate_numbers_and_positions(input_string):\n",
    "    numbers = []\n",
    "    positions = []\n",
    "\n",
    "    for index, char in enumerate(input_string):\n",
    "        if char.isdigit():\n",
    "            numbers.append(char)\n",
    "            positions.append(index + 1)  # Adding 1 to index to make positions 1-based\n",
    "\n",
    "    return numbers, positions\n",
    "\n",
    "def main():\n",
    "    sample_text = \"abc123def456ghi789\"\n",
    "    numbers, positions = separate_numbers_and_positions(sample_text)\n",
    "\n",
    "    print(\"Numbers:\", numbers)\n",
    "    print(\"Positions:\", positions)\n",
    "\n",
    "if __name__ == \"__main__\":\n",
    "    main()"
   ]
  },
  {
   "cell_type": "code",
   "execution_count": null,
   "id": "3e750e13",
   "metadata": {},
   "outputs": [],
   "source": [
    "Questions 22"
   ]
  },
  {
   "cell_type": "code",
   "execution_count": 94,
   "id": "2cf0b3bd",
   "metadata": {},
   "outputs": [
    {
     "name": "stdout",
     "output_type": "stream",
     "text": [
      "The maximum numeric value is: 950\n"
     ]
    }
   ],
   "source": [
    "import re\n",
    "\n",
    "def extract_maximum_numeric_value(input_string):\n",
    "    numeric_values = [int(match) for match in re.findall(r'\\b\\d+\\b', input_string)]\n",
    "    \n",
    "    if numeric_values:\n",
    "        maximum_value = max(numeric_values)\n",
    "        return maximum_value\n",
    "    else:\n",
    "        return None\n",
    "\n",
    "def main():\n",
    "    sample_text = 'My marks in each semester are: 947, 896, 926, 524, 734, 950, 642'\n",
    "    result = extract_maximum_numeric_value(sample_text)\n",
    "\n",
    "    if result is not None:\n",
    "        print(f'The maximum numeric value is: {result}')\n",
    "    else:\n",
    "        print('No numeric values found in the text.')\n",
    "\n",
    "if __name__ == \"__main__\":\n",
    "    main()"
   ]
  },
  {
   "cell_type": "code",
   "execution_count": null,
   "id": "abf76c82",
   "metadata": {},
   "outputs": [],
   "source": [
    "Questions 23"
   ]
  },
  {
   "cell_type": "code",
   "execution_count": 112,
   "id": "80b6e7a6",
   "metadata": {},
   "outputs": [
    {
     "name": "stdout",
     "output_type": "stream",
     "text": [
      "Regular Expression Is An Important Topic In Python\n"
     ]
    }
   ],
   "source": [
    "import re\n",
    "\n",
    "def insert_spaces(input_string):\n",
    "   \n",
    "    result = re.sub(r'([a-z])([A-Z])', r'\\1 \\2', input_string)\n",
    "    return result\n",
    "\n",
    "def main():\n",
    "   \n",
    "    sample_text = \"RegularExpressionIsAnImportantTopicInPython\"\n",
    "\n",
    "   \n",
    "    output = insert_spaces(sample_text)\n",
    "\n",
    "    \n",
    "    print(output)\n",
    "\n",
    "if __name__ == \"__main__\":\n",
    "    main()"
   ]
  },
  {
   "cell_type": "code",
   "execution_count": null,
   "id": "3172e274",
   "metadata": {},
   "outputs": [],
   "source": [
    "Questions 24"
   ]
  },
  {
   "cell_type": "code",
   "execution_count": 96,
   "id": "dcb86bff",
   "metadata": {},
   "outputs": [
    {
     "name": "stdout",
     "output_type": "stream",
     "text": [
      "Sequences of one uppercase letter followed by lowercase letters:\n",
      "['Hello', 'World', 'Python', 'Programming', 'Regular', 'Expressions']\n"
     ]
    }
   ],
   "source": [
    "import re\n",
    "\n",
    "def find_sequences(input_string):\n",
    "    pattern = re.compile(r'[A-Z][a-z]+')\n",
    "    sequences = pattern.findall(input_string)\n",
    "    return sequences\n",
    "\n",
    "def main():\n",
    "    sample_text = \"Hello World, Python Programming, Regular Expressions\"\n",
    "\n",
    "    sequences = find_sequences(sample_text)\n",
    "\n",
    "    print(\"Sequences of one uppercase letter followed by lowercase letters:\")\n",
    "    print(sequences)\n",
    "\n",
    "if __name__ == \"__main__\":\n",
    "    main()"
   ]
  },
  {
   "cell_type": "code",
   "execution_count": null,
   "id": "57d9ff2b",
   "metadata": {},
   "outputs": [],
   "source": [
    "Questions 25"
   ]
  },
  {
   "cell_type": "code",
   "execution_count": 97,
   "id": "c1cd82b9",
   "metadata": {},
   "outputs": [
    {
     "name": "stdout",
     "output_type": "stream",
     "text": [
      "Hello world\n"
     ]
    }
   ],
   "source": [
    "import re\n",
    "\n",
    "def remove_continuous_duplicates(input_sentence):\n",
    "    # Use regular expression to remove continuous duplicate words\n",
    "    result = re.sub(r'\\b(\\w+)(\\s+\\1)+\\b', r'\\1', input_sentence, flags=re.IGNORECASE)\n",
    "    return result\n",
    "\n",
    "def main():\n",
    "    # Sample text\n",
    "    sample_text = \"Hello hello world world\"\n",
    "\n",
    "    # Remove continuous duplicate words\n",
    "    output = remove_continuous_duplicates(sample_text)\n",
    "\n",
    "    # Print the expected output\n",
    "    print(output)\n",
    "\n",
    "if __name__ == \"__main__\":\n",
    "    main()"
   ]
  },
  {
   "cell_type": "code",
   "execution_count": null,
   "id": "4c97126e",
   "metadata": {},
   "outputs": [],
   "source": [
    "Questions 26"
   ]
  },
  {
   "cell_type": "code",
   "execution_count": 98,
   "id": "9396bd48",
   "metadata": {},
   "outputs": [
    {
     "name": "stdout",
     "output_type": "stream",
     "text": [
      "Enter a string: 123456789\n",
      "The string ends with an alphanumeric character.\n"
     ]
    }
   ],
   "source": [
    "import re\n",
    "\n",
    "def is_string_ending_with_alphanumeric(input_string):\n",
    "    pattern = re.compile(r'\\w$')\n",
    "    return bool(pattern.search(input_string))\n",
    "\n",
    "def main():\n",
    "    user_input = input(\"Enter a string: \")\n",
    "\n",
    "    if is_string_ending_with_alphanumeric(user_input):\n",
    "        print(\"The string ends with an alphanumeric character.\")\n",
    "    else:\n",
    "        print(\"The string does not end with an alphanumeric character.\")\n",
    "\n",
    "if __name__ == \"__main__\":\n",
    "    main()"
   ]
  },
  {
   "cell_type": "code",
   "execution_count": null,
   "id": "3aa6e5bb",
   "metadata": {},
   "outputs": [],
   "source": [
    "Questions 27"
   ]
  },
  {
   "cell_type": "code",
   "execution_count": 99,
   "id": "54ecb705",
   "metadata": {},
   "outputs": [
    {
     "name": "stdout",
     "output_type": "stream",
     "text": [
      "Extracted Hashtags:\n",
      "['#Doltiwal', '#xyzabc', '#Demonetization']\n"
     ]
    }
   ],
   "source": [
    "import re\n",
    "\n",
    "def extract_hashtags(input_text):\n",
    "    pattern = re.compile(r'#\\w+')\n",
    "    hashtags = pattern.findall(input_text)\n",
    "    return hashtags\n",
    "\n",
    "def main():\n",
    "    sample_text = \"\"\"RT @kapil_kausik: #Doltiwal I mean #xyzabc is \"hurt\" by #Demonetization as the same has rendered USELESS <ed><U+00A0><U+00BD><ed><U+00B1><U+0089> \"acquired funds\" No wo\"\"\"\n",
    "    \n",
    "    result = extract_hashtags(sample_text)\n",
    "\n",
    "    print(\"Extracted Hashtags:\")\n",
    "    print(result)\n",
    "\n",
    "if __name__ == \"__main__\":\n",
    "    main()"
   ]
  },
  {
   "cell_type": "code",
   "execution_count": null,
   "id": "a4823325",
   "metadata": {},
   "outputs": [],
   "source": [
    "Questions 28"
   ]
  },
  {
   "cell_type": "code",
   "execution_count": 106,
   "id": "25601d8b",
   "metadata": {},
   "outputs": [
    {
     "name": "stdout",
     "output_type": "stream",
     "text": [
      "Text after removing Unicode symbols:\n",
      "@Jags123456 Bharat band on 28??<ed><ed><ed><ed><ed><ed>Those who are protesting #demonetization are all different party leaders\n"
     ]
    }
   ],
   "source": [
    "import re\n",
    "\n",
    "def remove_unicode_symbols(input_text):\n",
    "    pattern = re.compile(r'<U\\+[0-9A-Fa-f]+>')\n",
    "    cleaned_text = pattern.sub('<ed>', input_text)\n",
    "    return cleaned_text\n",
    "\n",
    "def main():\n",
    "    sample_text = \"@Jags123456 Bharat band on 28??<ed><U+00A0><U+00BD><ed><U+00B8><U+0082>Those who are protesting #demonetization are all different party leaders\"\n",
    "    \n",
    "    cleaned_text = remove_unicode_symbols(sample_text)\n",
    "\n",
    "    print(\"Text after removing Unicode symbols:\")\n",
    "    print(cleaned_text)\n",
    "\n",
    "if __name__ == \"__main__\":\n",
    "    main()"
   ]
  },
  {
   "cell_type": "code",
   "execution_count": null,
   "id": "50c4f149",
   "metadata": {},
   "outputs": [],
   "source": [
    "Questions 29"
   ]
  },
  {
   "cell_type": "code",
   "execution_count": 111,
   "id": "13604837",
   "metadata": {},
   "outputs": [
    {
     "ename": "SyntaxError",
     "evalue": "leading zeros in decimal integer literals are not permitted; use an 0o prefix for octal integers (2839907527.py, line 14)",
     "output_type": "error",
     "traceback": [
      "\u001b[1;36m  Cell \u001b[1;32mIn[111], line 14\u001b[1;36m\u001b[0m\n\u001b[1;33m    Extracted Dates = {[Ron was born on 12-09-1992 and he was admitted to school 15-12-1999.]}\u001b[0m\n\u001b[1;37m                                           ^\u001b[0m\n\u001b[1;31mSyntaxError\u001b[0m\u001b[1;31m:\u001b[0m leading zeros in decimal integer literals are not permitted; use an 0o prefix for octal integers\n"
     ]
    }
   ],
   "source": [
    "import re\n",
    "\n",
    "def extract_dates_from_file(file_path):\n",
    "    with open(file_path, 'r') as file:\n",
    "        text = file.read()\n",
    "        pattern = re.compile(r'\\b\\d{2}-\\d{2}-\\d{4}\\b')\n",
    "        dates = pattern.findall(text)\n",
    "    return dates\n",
    "\n",
    "def main():\n",
    "    file_path = 'sample_text.txt'\n",
    "    dates = extract_dates_from_file(file_path)\n",
    "    \n",
    "    Extracted Dates = {[Ron was born on 12-09-1992 and he was admitted to school 15-12-1999.]}\n",
    "\n",
    "    if dates:\n",
    "        print(\"Extracted Dates:\")\n",
    "        for date in dates:\n",
    "            print(date)\n",
    "    else:\n",
    "        print(\"No dates found in the text file.\")\n",
    "\n",
    "if __name__ == \"__main__\":\n",
    "    main()"
   ]
  },
  {
   "cell_type": "code",
   "execution_count": null,
   "id": "2c2b9f15",
   "metadata": {},
   "outputs": [],
   "source": [
    "Questions 30"
   ]
  },
  {
   "cell_type": "code",
   "execution_count": 109,
   "id": "71713d80",
   "metadata": {},
   "outputs": [
    {
     "name": "stdout",
     "output_type": "stream",
     "text": [
      "Text after removing words of length between 2 and 4:\n",
      " following example creates  ArrayList  a capacity   elements. 4 elements   added   ArrayList   ArrayList  trimmed accordingly.\n"
     ]
    }
   ],
   "source": [
    "import re\n",
    "\n",
    "def remove_words_of_length_between_2_and_4(input_string):\n",
    "    pattern = re.compile(r'\\b\\w{2,4}\\b')\n",
    "    result = pattern.sub('', input_string)\n",
    "    return result\n",
    "\n",
    "def main():\n",
    "    sample_text = \"The following example creates an ArrayList with a capacity of 50 elements. 4 elements are then added to the ArrayList and the ArrayList is trimmed accordingly.\"\n",
    "    cleaned_text = remove_words_of_length_between_2_and_4(sample_text)\n",
    "    print(\"Text after removing words of length between 2 and 4:\")\n",
    "    print(cleaned_text)\n",
    "\n",
    "if __name__ == \"__main__\":\n",
    "    main()"
   ]
  },
  {
   "cell_type": "code",
   "execution_count": null,
   "id": "c267f319",
   "metadata": {},
   "outputs": [],
   "source": []
  }
 ],
 "metadata": {
  "kernelspec": {
   "display_name": "Python 3 (ipykernel)",
   "language": "python",
   "name": "python3"
  },
  "language_info": {
   "codemirror_mode": {
    "name": "ipython",
    "version": 3
   },
   "file_extension": ".py",
   "mimetype": "text/x-python",
   "name": "python",
   "nbconvert_exporter": "python",
   "pygments_lexer": "ipython3",
   "version": "3.10.9"
  }
 },
 "nbformat": 4,
 "nbformat_minor": 5
}
